{
 "cells": [
  {
   "attachments": {},
   "cell_type": "markdown",
   "metadata": {},
   "source": [
    "--基本思想：动态factor model和VAE结合，用未来收益构建因子(正态)的后验分布参数，用特征构建因子的先验分布参数，使得因子后验分布下reconstruct y合理，同时因子先验后验分布相似，最终得到预测收益的分布参数（mean,std）\n",
    "\n",
    "\n",
    "VAE：variational autoencoder\n",
    "观测数据y, 假设其能由z生成\n",
    "用encoder生成后验概率z|y，用decoder reconstruct y’ with z_post(后验概率sample)\n",
    "先验概率p(z) z_prior\n",
    "目标函数两部分：最大似然（减少重塑误差）+最小KL散度（减小先验后验分布差异）\n",
    "\n",
    "\n",
    "K: num of fator\n",
    "N: num of stock\n",
    "M: num of portfolio\n",
    "H: latent feature维度\n",
    "\n",
    "--Encoder-Decoder部分\n",
    "(1)特征提取\n",
    "input：原始特征\n",
    "model：leakyrelu + GRU \n",
    "output: 用最后时刻T的隐藏状态作为潜在feature e\n",
    "\n",
    "(2) 因子encoder\n",
    "假设因子z 正态分布\n",
    "用加权组合y收益代替截面个股收益(减少参数，回避股票缺失的问题)，port个股权重由latent feature e softmax确定\n",
    "用future return y通过mapping得出z的后验分布\n",
    "\n",
    "(3)因子decoder\n",
    "factor model计算收益y\n",
    "用e mapping得到alpha(正态分布两个参数) 和beta, y也为正态分布\n",
    "\n",
    "--Prior-Post learning 部分\n",
    "(1)因子预测-先验分布\n",
    "设计注意力机制 通过e生成global representation of market h\n",
    "用h mapping 得到因子z的先验分布，并预测y\n",
    "\n",
    "--目标函数\n",
    "其一：后验分布的合理性 z后验分布下y的log likelihood\n",
    "其二：先验后验分布一致性 KL散度\n",
    "  \n",
    "\n",
    "--实验过程\n",
    "data：A股市场 train(2010-2017),valid(2018),test(2019-2020)\n",
    "选取20个feature T=20\n",
    "验证结果\n",
    "5次试验均值 方差 与其他模型比较\n",
    "准确性 RankIC，IR \n",
    "稳健性 从训练集删除m只股票，在预测m只股票的结果\n",
    "策略应用 TopK–Drop 年化收益，sharp, max drawndown\n"
   ]
  },
  {
   "cell_type": "markdown",
   "metadata": {},
   "source": []
  }
 ],
 "metadata": {
  "kernelspec": {
   "display_name": "Python 3",
   "language": "python",
   "name": "python3"
  },
  "language_info": {
   "name": "python",
   "version": "3.9.7 (tags/v3.9.7:1016ef3, Aug 30 2021, 20:19:38) [MSC v.1929 64 bit (AMD64)]"
  },
  "orig_nbformat": 4,
  "vscode": {
   "interpreter": {
    "hash": "8f939dc046ae95b61db57b1ddfb635e5199eac9f7bf30422bfd106b8f44dc254"
   }
  }
 },
 "nbformat": 4,
 "nbformat_minor": 2
}
