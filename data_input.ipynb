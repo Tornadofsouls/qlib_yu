{
 "cells": [
  {
   "cell_type": "code",
   "execution_count": 1,
   "metadata": {},
   "outputs": [],
   "source": [
    "import os\n",
    "import numpy as np\n",
    "import xarray as xr\n",
    "from tqdm import tqdm\n",
    "import csv\n",
    "from qlib.data import D"
   ]
  },
  {
   "attachments": {},
   "cell_type": "markdown",
   "metadata": {},
   "source": [
    "### 数据读取"
   ]
  },
  {
   "cell_type": "code",
   "execution_count": 9,
   "metadata": {},
   "outputs": [
    {
     "data": {
      "text/plain": [
       "('feature', 'date', 'symbol')"
      ]
     },
     "execution_count": 9,
     "metadata": {},
     "output_type": "execute_result"
    }
   ],
   "source": [
    "data_path = 'D:\\yupeishan\\python_file\\qlib_data'\n",
    "data = xr.open_dataarray(os.path.join(data_path, 'data_base.nc'))\n",
    "data.dims"
   ]
  },
  {
   "cell_type": "code",
   "execution_count": null,
   "metadata": {},
   "outputs": [],
   "source": [
    "code_list = data['symbol'].values.tolist()\n",
    "date_list = data['date'].values\n",
    "date_list = [np.datetime_as_string(i)[:10] for i in date_list] #np.datetime64 转为 string\n",
    "feature_list = data['feature'].values.tolist()\n",
    "\n",
    "# 按照股票代码分别存入csv文件\n",
    "for i in tqdm(range(len(code_list))):\n",
    "    outpath = os.path.join(data_path,'csv_data\\\\')+ code_list[i] + '.csv'\n",
    "    with open(outpath, 'w', newline='') as fp:\n",
    "        writer = csv.writer(fp)\n",
    "        writer.writerow(['symbol','date']+feature_list)\n",
    "        j = 0\n",
    "        while j < len(date_list):\n",
    "            \n",
    "            writer.writerow([code_list[i],date_list[j]]+ data[:,j,i].values.tolist())\n",
    "            j += 1\n"
   ]
  },
  {
   "attachments": {},
   "cell_type": "markdown",
   "metadata": {},
   "source": [
    "### csv 导入qlib"
   ]
  },
  {
   "cell_type": "code",
   "execution_count": null,
   "metadata": {},
   "outputs": [],
   "source": [
    "\n",
    "#python qlib-main/scripts/dump_bin.py dump_all --csv_path  qlib_data/csv_data --qlib_dir qlib_data/qlib_data --symbol_field_name symbol --date_field_name date --include_fields open,close,high,low,volume,factor,preclose,amount,vwap\n"
   ]
  }
 ],
 "metadata": {
  "kernelspec": {
   "display_name": "Python 3",
   "language": "python",
   "name": "python3"
  },
  "language_info": {
   "codemirror_mode": {
    "name": "ipython",
    "version": 3
   },
   "file_extension": ".py",
   "mimetype": "text/x-python",
   "name": "python",
   "nbconvert_exporter": "python",
   "pygments_lexer": "ipython3",
   "version": "3.9.7"
  },
  "orig_nbformat": 4,
  "vscode": {
   "interpreter": {
    "hash": "8f939dc046ae95b61db57b1ddfb635e5199eac9f7bf30422bfd106b8f44dc254"
   }
  }
 },
 "nbformat": 4,
 "nbformat_minor": 2
}
