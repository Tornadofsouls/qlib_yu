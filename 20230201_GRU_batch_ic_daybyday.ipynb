{
 "cells": [
  {
   "cell_type": "code",
   "execution_count": 1,
   "metadata": {},
   "outputs": [],
   "source": [
    "import qlib\n",
    "import pandas as pd\n",
    "from qlib.config import REG_CN\n",
    "from qlib.utils import exists_qlib_data, init_instance_by_config\n",
    "from qlib.workflow import R\n",
    "from qlib.workflow.record_temp import SignalRecord, PortAnaRecord, SigAnaRecord\n",
    "from qlib.utils import flatten_dict\n",
    "from qlib.tests.data import GetData\n",
    "import time\n",
    "import mlflow"
   ]
  },
  {
   "attachments": {},
   "cell_type": "markdown",
   "metadata": {},
   "source": [
    "### data"
   ]
  },
  {
   "cell_type": "code",
   "execution_count": 2,
   "metadata": {},
   "outputs": [
    {
     "name": "stderr",
     "output_type": "stream",
     "text": [
      "[10372:MainThread](2023-02-01 15:33:12,862) INFO - qlib.Initialization - [config.py:386] - default_conf: client.\n",
      "[10372:MainThread](2023-02-01 15:33:14,989) WARNING - qlib.Initialization - [config.py:411] - redis connection failed(host=127.0.0.1 port=6379), DiskExpressionCache and DiskDatasetCache will not be used!\n",
      "[10372:MainThread](2023-02-01 15:33:14,997) INFO - qlib.Initialization - [__init__.py:56] - qlib successfully initialized based on client settings.\n",
      "[10372:MainThread](2023-02-01 15:33:14,999) INFO - qlib.Initialization - [__init__.py:58] - data_path={'__DEFAULT_FREQ': WindowsPath('D:/yupeishan/python_file/qlib_data/qlib_data')}\n"
     ]
    }
   ],
   "source": [
    "\n",
    "provider_uri = \"../qlib_data/qlib_data\"  # target_dir\n",
    "\n",
    "if not exists_qlib_data(provider_uri):\n",
    "    print(f\"Qlib data is not found in {provider_uri}\")\n",
    "    GetData().qlib_data(target_dir=provider_uri, region=REG_CN)\n",
    "qlib.init(provider_uri=provider_uri, region=REG_CN)"
   ]
  },
  {
   "cell_type": "code",
   "execution_count": 3,
   "metadata": {},
   "outputs": [],
   "source": [
    "market = \"all\"\n",
    "benchmark = \"SH000905\""
   ]
  },
  {
   "cell_type": "code",
   "execution_count": 4,
   "metadata": {},
   "outputs": [],
   "source": [
    "train_start = \"2021-01-01\"\n",
    "train_end =\"2021-07-30\"\n",
    "valid_start = \"2021-08-01\"\n",
    "valid_end = \"2021-09-30\"\n",
    "test_start = \"2021-10-01\"\n",
    "test_end = \"2021-12-31\""
   ]
  },
  {
   "cell_type": "code",
   "execution_count": 5,
   "metadata": {},
   "outputs": [],
   "source": [
    "mlflow.end_run()"
   ]
  },
  {
   "cell_type": "code",
   "execution_count": 6,
   "metadata": {},
   "outputs": [
    {
     "name": "stdout",
     "output_type": "stream",
     "text": [
      "初始化ds\n"
     ]
    },
    {
     "name": "stderr",
     "output_type": "stream",
     "text": [
      "c:\\Users\\lenovo\\AppData\\Local\\Programs\\Python\\Python39\\lib\\site-packages\\qlib\\utils\\__init__.py:757: FutureWarning: MultiIndex.is_lexsorted is deprecated as a public function, users should use MultiIndex.is_monotonic_increasing instead.\n",
      "  if idx.is_monotonic_increasing and not (isinstance(idx, pd.MultiIndex) and not idx.is_lexsorted()):\n",
      "[10372:MainThread](2023-02-01 15:47:25,523) INFO - qlib.timer - [log.py:113] - Time cost: 850.059s | Loading data Done\n",
      "[10372:MainThread](2023-02-01 15:47:38,019) INFO - qlib.timer - [log.py:113] - Time cost: 0.281s | FilterCol Done\n",
      "c:\\Users\\lenovo\\AppData\\Local\\Programs\\Python\\Python39\\lib\\site-packages\\pandas\\core\\frame.py:3641: SettingWithCopyWarning: \n",
      "A value is trying to be set on a copy of a slice from a DataFrame.\n",
      "Try using .loc[row_indexer,col_indexer] = value instead\n",
      "\n",
      "See the caveats in the documentation: https://pandas.pydata.org/pandas-docs/stable/user_guide/indexing.html#returning-a-view-versus-a-copy\n",
      "  self[k1] = value[k2]\n",
      "c:\\Users\\lenovo\\AppData\\Local\\Programs\\Python\\Python39\\lib\\site-packages\\pandas\\core\\generic.py:7430: SettingWithCopyWarning: \n",
      "A value is trying to be set on a copy of a slice from a DataFrame\n",
      "\n",
      "See the caveats in the documentation: https://pandas.pydata.org/pandas-docs/stable/user_guide/indexing.html#returning-a-view-versus-a-copy\n",
      "  return self._clip_with_scalar(lower, upper, inplace=inplace)\n",
      "[10372:MainThread](2023-02-01 15:47:41,914) INFO - qlib.timer - [log.py:113] - Time cost: 3.781s | RobustZScoreNorm Done\n",
      "[10372:MainThread](2023-02-01 15:47:42,113) INFO - qlib.timer - [log.py:113] - Time cost: 0.194s | Fillna Done\n",
      "[10372:MainThread](2023-02-01 15:47:42,502) INFO - qlib.timer - [log.py:113] - Time cost: 0.214s | DropnaLabel Done\n",
      "[10372:MainThread](2023-02-01 15:47:43,440) INFO - qlib.timer - [log.py:113] - Time cost: 0.936s | CSRankNorm Done\n",
      "[10372:MainThread](2023-02-01 15:47:43,457) INFO - qlib.timer - [log.py:113] - Time cost: 17.925s | fit & process data Done\n",
      "[10372:MainThread](2023-02-01 15:47:43,477) INFO - qlib.timer - [log.py:113] - Time cost: 868.013s | Init data Done\n"
     ]
    },
    {
     "name": "stdout",
     "output_type": "stream",
     "text": [
      "ds耗时：868.160s\n",
      "初始化md\n",
      "Please install necessary libs for CatBoostModel.\n"
     ]
    },
    {
     "name": "stderr",
     "output_type": "stream",
     "text": [
      "[10372:MainThread](2023-02-01 15:47:49,926) INFO - qlib.GRU - [pytorch_gru_ts_chg_draft.py:61] - GRU pytorch version...\n",
      "[10372:MainThread](2023-02-01 15:47:49,937) INFO - qlib.GRU - [pytorch_gru_ts_chg_draft.py:79] - GRU parameters setting:\n",
      "d_feat : 20\n",
      "hidden_size : 64\n",
      "num_layers : 2\n",
      "dropout : 0.0\n",
      "n_epochs : 200\n",
      "lr : 0.001\n",
      "metric : loss\n",
      "batch_size : 800\n",
      "early_stop : 10\n",
      "optimizer : adam\n",
      "loss_type : batch_ic\n",
      "device : cpu\n",
      "n_jobs : 1\n",
      "use_GPU : False\n",
      "seed : None\n",
      "[10372:MainThread](2023-02-01 15:47:50,035) INFO - qlib.GRU - [pytorch_gru_ts_chg_draft.py:124] - model:\n",
      "GRUModel(\n",
      "  (rnn): GRU(20, 64, num_layers=2, batch_first=True)\n",
      "  (fc_out): Linear(in_features=64, out_features=1, bias=True)\n",
      ")\n",
      "[10372:MainThread](2023-02-01 15:47:50,037) INFO - qlib.GRU - [pytorch_gru_ts_chg_draft.py:125] - model size: 0.0396 MB\n",
      "[10372:MainThread](2023-02-01 15:47:50,043) INFO - qlib.workflow - [expm.py:270] - No tracking URI is provided. Use the default tracking URI.\n",
      "[10372:MainThread](2023-02-01 15:47:50,047) INFO - qlib.workflow - [expm.py:306] - <mlflow.tracking.client.MlflowClient object at 0x000001FCB61CBCD0>\n",
      "[10372:MainThread](2023-02-01 15:47:50,063) INFO - qlib.workflow - [exp.py:249] - Experiment 492208354114910911 starts running ...\n"
     ]
    },
    {
     "name": "stdout",
     "output_type": "stream",
     "text": [
      "md耗时：6.425s\n",
      "train\n",
      "开始训练\n"
     ]
    },
    {
     "name": "stderr",
     "output_type": "stream",
     "text": [
      "[10372:MainThread](2023-02-01 15:47:50,767) INFO - qlib.workflow - [recorder.py:284] - Recorder c264c486378948e287e58b8980b7e86b starts running under Experiment 492208354114910911 ...\n",
      "c:\\Users\\lenovo\\AppData\\Local\\Programs\\Python\\Python39\\lib\\site-packages\\qlib\\utils\\__init__.py:757: FutureWarning: MultiIndex.is_lexsorted is deprecated as a public function, users should use MultiIndex.is_monotonic_increasing instead.\n",
      "  if idx.is_monotonic_increasing and not (isinstance(idx, pd.MultiIndex) and not idx.is_lexsorted()):\n",
      "c:\\Users\\lenovo\\AppData\\Local\\Programs\\Python\\Python39\\lib\\site-packages\\qlib\\utils\\__init__.py:757: FutureWarning: MultiIndex.is_lexsorted is deprecated as a public function, users should use MultiIndex.is_monotonic_increasing instead.\n",
      "  if idx.is_monotonic_increasing and not (isinstance(idx, pd.MultiIndex) and not idx.is_lexsorted()):\n"
     ]
    },
    {
     "name": "stdout",
     "output_type": "stream",
     "text": [
      "day by day!!!!!\n",
      "[4405, 4403, 4402, 4399, 4396, 4393, 4388, 4387, 4383, 4383, 4379, 4378, 4377, 4377, 4377, 4376, 4375, 4374, 4373, 4367, 4363, 4359, 4357, 4357, 4351, 4351, 4347, 4339, 4338, 4334, 4329, 4328, 4327, 4326, 4324, 4323, 4323, 4319, 4318, 4317, 4316, 4313, 4311, 4309, 4308, 4306, 4303, 4303, 4297, 4292, 4288, 4288, 4279, 4276, 4274, 4272, 4272, 4269, 4265, 4262, 4259, 4258, 4257, 4250, 4249, 4245, 4243, 4241, 4240, 4239, 4236, 4236, 4234, 4234, 4232, 4230, 4228, 4226, 4222, 4222, 4219, 4216, 4213, 4212, 4212, 4211, 4208, 4206, 4202, 4200, 4198, 4188, 4188, 4188, 4187, 4185, 4183, 4182, 4182, 4181, 4181, 4178, 4178, 4177, 4176, 4176, 4172, 4171, 4171, 4171, 4171, 4169, 4167, 4167, 4164, 4157, 4153, 4153, 4152, 4152, 4151, 4146, 4145, 4140, 4137, 4135, 4132, 4131, 4127, 4127, 4125, 4125, 4124, 4124, 4123, 4123, 4122, 4121, 4118, 4118]\n",
      "[4479, 4478, 4475, 4471, 4470, 4469, 4467, 4467, 4467, 4466, 4466, 4466, 4465, 4461, 4460, 4455, 4452, 4449, 4447, 4447, 4447, 4447, 4447, 4446, 4446, 4445, 4445, 4442, 4441, 4440, 4436, 4435, 4434, 4431, 4427, 4421, 4420, 4419, 4418, 4417, 4413, 4408]\n",
      "140\n",
      "42\n"
     ]
    },
    {
     "name": "stderr",
     "output_type": "stream",
     "text": [
      "[10372:MainThread](2023-02-01 15:48:06,309) INFO - qlib.GRU - [pytorch_gru_ts_chg_draft.py:269] - training...\n",
      "[10372:MainThread](2023-02-01 15:48:06,310) INFO - qlib.GRU - [pytorch_gru_ts_chg_draft.py:273] - Epoch0:\n",
      "[10372:MainThread](2023-02-01 15:48:06,310) INFO - qlib.GRU - [pytorch_gru_ts_chg_draft.py:274] - training...\n",
      "[10372:MainThread](2023-02-01 15:54:20,315) INFO - qlib.GRU - [pytorch_gru_ts_chg_draft.py:276] - evaluating...\n",
      "[10372:MainThread](2023-02-01 15:59:35,043) INFO - qlib.GRU - [pytorch_gru_ts_chg_draft.py:279] - train 0.056602, valid 0.080137\n",
      "[10372:MainThread](2023-02-01 15:59:35,136) INFO - qlib.GRU - [pytorch_gru_ts_chg_draft.py:273] - Epoch1:\n",
      "[10372:MainThread](2023-02-01 15:59:35,140) INFO - qlib.GRU - [pytorch_gru_ts_chg_draft.py:274] - training...\n",
      "[10372:MainThread](2023-02-01 16:06:20,165) INFO - qlib.GRU - [pytorch_gru_ts_chg_draft.py:276] - evaluating...\n",
      "[10372:MainThread](2023-02-01 16:11:43,931) INFO - qlib.GRU - [pytorch_gru_ts_chg_draft.py:279] - train 0.063926, valid 0.084442\n",
      "[10372:MainThread](2023-02-01 16:11:44,002) INFO - qlib.GRU - [pytorch_gru_ts_chg_draft.py:273] - Epoch2:\n",
      "[10372:MainThread](2023-02-01 16:11:44,005) INFO - qlib.GRU - [pytorch_gru_ts_chg_draft.py:274] - training...\n",
      "[10372:MainThread](2023-02-01 16:18:13,973) INFO - qlib.GRU - [pytorch_gru_ts_chg_draft.py:276] - evaluating...\n",
      "[10372:MainThread](2023-02-01 16:23:01,675) INFO - qlib.GRU - [pytorch_gru_ts_chg_draft.py:279] - train 0.068303, valid 0.086195\n",
      "[10372:MainThread](2023-02-01 16:23:01,732) INFO - qlib.GRU - [pytorch_gru_ts_chg_draft.py:273] - Epoch3:\n",
      "[10372:MainThread](2023-02-01 16:23:01,735) INFO - qlib.GRU - [pytorch_gru_ts_chg_draft.py:274] - training...\n",
      "[10372:MainThread](2023-02-01 16:30:08,221) INFO - qlib.GRU - [pytorch_gru_ts_chg_draft.py:276] - evaluating...\n",
      "[10372:MainThread](2023-02-01 16:35:17,030) INFO - qlib.GRU - [pytorch_gru_ts_chg_draft.py:279] - train 0.071208, valid 0.086077\n",
      "[10372:MainThread](2023-02-01 16:35:17,077) INFO - qlib.GRU - [pytorch_gru_ts_chg_draft.py:273] - Epoch4:\n",
      "[10372:MainThread](2023-02-01 16:35:17,080) INFO - qlib.GRU - [pytorch_gru_ts_chg_draft.py:274] - training...\n",
      "[10372:MainThread](2023-02-01 16:42:04,085) INFO - qlib.GRU - [pytorch_gru_ts_chg_draft.py:276] - evaluating...\n",
      "[10372:MainThread](2023-02-01 16:47:37,366) INFO - qlib.GRU - [pytorch_gru_ts_chg_draft.py:279] - train 0.074600, valid 0.085649\n",
      "[10372:MainThread](2023-02-01 16:47:37,430) INFO - qlib.GRU - [pytorch_gru_ts_chg_draft.py:273] - Epoch5:\n",
      "[10372:MainThread](2023-02-01 16:47:37,436) INFO - qlib.GRU - [pytorch_gru_ts_chg_draft.py:274] - training...\n",
      "[10372:MainThread](2023-02-01 16:54:48,479) INFO - qlib.GRU - [pytorch_gru_ts_chg_draft.py:276] - evaluating...\n",
      "[10372:MainThread](2023-02-01 17:00:02,728) INFO - qlib.GRU - [pytorch_gru_ts_chg_draft.py:279] - train 0.076530, valid 0.081323\n",
      "[10372:MainThread](2023-02-01 17:00:02,781) INFO - qlib.GRU - [pytorch_gru_ts_chg_draft.py:273] - Epoch6:\n",
      "[10372:MainThread](2023-02-01 17:00:02,788) INFO - qlib.GRU - [pytorch_gru_ts_chg_draft.py:274] - training...\n",
      "[10372:MainThread](2023-02-01 17:07:30,222) INFO - qlib.GRU - [pytorch_gru_ts_chg_draft.py:276] - evaluating...\n",
      "[10372:MainThread](2023-02-01 17:14:43,527) INFO - qlib.GRU - [pytorch_gru_ts_chg_draft.py:279] - train 0.081511, valid 0.078243\n",
      "[10372:MainThread](2023-02-01 17:14:43,660) INFO - qlib.GRU - [pytorch_gru_ts_chg_draft.py:273] - Epoch7:\n",
      "[10372:MainThread](2023-02-01 17:14:43,668) INFO - qlib.GRU - [pytorch_gru_ts_chg_draft.py:274] - training...\n",
      "[10372:MainThread](2023-02-01 17:21:41,561) INFO - qlib.GRU - [pytorch_gru_ts_chg_draft.py:276] - evaluating...\n",
      "[10372:MainThread](2023-02-01 17:27:18,795) INFO - qlib.GRU - [pytorch_gru_ts_chg_draft.py:279] - train 0.087237, valid 0.081013\n",
      "[10372:MainThread](2023-02-01 17:27:18,877) INFO - qlib.GRU - [pytorch_gru_ts_chg_draft.py:273] - Epoch8:\n",
      "[10372:MainThread](2023-02-01 17:27:18,882) INFO - qlib.GRU - [pytorch_gru_ts_chg_draft.py:274] - training...\n",
      "[10372:MainThread](2023-02-01 17:34:02,635) INFO - qlib.GRU - [pytorch_gru_ts_chg_draft.py:276] - evaluating...\n",
      "[10372:MainThread](2023-02-01 17:39:31,042) INFO - qlib.GRU - [pytorch_gru_ts_chg_draft.py:279] - train 0.090061, valid 0.077515\n",
      "[10372:MainThread](2023-02-01 17:39:31,108) INFO - qlib.GRU - [pytorch_gru_ts_chg_draft.py:273] - Epoch9:\n",
      "[10372:MainThread](2023-02-01 17:39:31,112) INFO - qlib.GRU - [pytorch_gru_ts_chg_draft.py:274] - training...\n",
      "[10372:MainThread](2023-02-01 17:45:52,677) INFO - qlib.GRU - [pytorch_gru_ts_chg_draft.py:276] - evaluating...\n",
      "[10372:MainThread](2023-02-01 17:51:01,027) INFO - qlib.GRU - [pytorch_gru_ts_chg_draft.py:279] - train 0.094998, valid 0.075855\n",
      "[10372:MainThread](2023-02-01 17:51:01,100) INFO - qlib.GRU - [pytorch_gru_ts_chg_draft.py:273] - Epoch10:\n",
      "[10372:MainThread](2023-02-01 17:51:01,106) INFO - qlib.GRU - [pytorch_gru_ts_chg_draft.py:274] - training...\n",
      "[10372:MainThread](2023-02-01 17:57:41,030) INFO - qlib.GRU - [pytorch_gru_ts_chg_draft.py:276] - evaluating...\n",
      "[10372:MainThread](2023-02-01 18:03:04,736) INFO - qlib.GRU - [pytorch_gru_ts_chg_draft.py:279] - train 0.099311, valid 0.072994\n",
      "[10372:MainThread](2023-02-01 18:03:04,792) INFO - qlib.GRU - [pytorch_gru_ts_chg_draft.py:273] - Epoch11:\n",
      "[10372:MainThread](2023-02-01 18:03:04,797) INFO - qlib.GRU - [pytorch_gru_ts_chg_draft.py:274] - training...\n",
      "[10372:MainThread](2023-02-01 18:09:48,743) INFO - qlib.GRU - [pytorch_gru_ts_chg_draft.py:276] - evaluating...\n",
      "[10372:MainThread](2023-02-01 18:15:11,350) INFO - qlib.GRU - [pytorch_gru_ts_chg_draft.py:279] - train 0.102080, valid 0.065417\n",
      "[10372:MainThread](2023-02-01 18:15:11,405) INFO - qlib.GRU - [pytorch_gru_ts_chg_draft.py:273] - Epoch12:\n",
      "[10372:MainThread](2023-02-01 18:15:11,409) INFO - qlib.GRU - [pytorch_gru_ts_chg_draft.py:274] - training...\n",
      "[10372:MainThread](2023-02-01 18:21:43,365) INFO - qlib.GRU - [pytorch_gru_ts_chg_draft.py:276] - evaluating...\n",
      "[10372:MainThread](2023-02-01 18:26:57,657) INFO - qlib.GRU - [pytorch_gru_ts_chg_draft.py:279] - train 0.107860, valid 0.063374\n",
      "[10372:MainThread](2023-02-01 18:26:57,717) INFO - qlib.GRU - [pytorch_gru_ts_chg_draft.py:291] - early stop\n",
      "[10372:MainThread](2023-02-01 18:26:57,717) INFO - qlib.GRU - [pytorch_gru_ts_chg_draft.py:294] - best score: 0.086195 @ 2\n"
     ]
    },
    {
     "name": "stdout",
     "output_type": "stream",
     "text": [
      "训练耗时：9548.938s\n",
      "训练结束\n"
     ]
    },
    {
     "name": "stderr",
     "output_type": "stream",
     "text": [
      "c:\\Users\\lenovo\\AppData\\Local\\Programs\\Python\\Python39\\lib\\site-packages\\qlib\\utils\\__init__.py:757: FutureWarning: MultiIndex.is_lexsorted is deprecated as a public function, users should use MultiIndex.is_monotonic_increasing instead.\n",
      "  if idx.is_monotonic_increasing and not (isinstance(idx, pd.MultiIndex) and not idx.is_lexsorted()):\n",
      "[10372:MainThread](2023-02-01 18:27:56,479) INFO - qlib.workflow - [record_temp.py:159] - Signal record 'pred.pkl' has been saved as the artifact of the Experiment 492208354114910911\n"
     ]
    },
    {
     "name": "stdout",
     "output_type": "stream",
     "text": [
      "'The following are prediction results of the GRU model.'\n",
      "                          score\n",
      "datetime   instrument          \n",
      "2021-10-08 SH600000    0.469601\n",
      "           SH600001    0.295593\n",
      "           SH600002    0.295593\n",
      "           SH600003    0.295593\n",
      "           SH600004   -0.119936\n"
     ]
    }
   ],
   "source": [
    "if __name__ == \"__main__\":\n",
    "    \n",
    "    task = {\n",
    "    \n",
    "    'ds_config' : {'class': 'TSDatasetH',\n",
    "                'module_path': 'qlib.data.dataset',\n",
    "                'kwargs': {\n",
    "                    'handler': {\n",
    "                        'class': 'Alpha158',\n",
    "                        'module_path': 'qlib.contrib.data.handler',\n",
    "                        'kwargs': {'start_time': train_start,\n",
    "                                    'end_time': test_end,\n",
    "                                    'fit_start_time': train_start,\n",
    "                                    'fit_end_time': train_end,\n",
    "                                    'instruments': market,\n",
    "                                    \n",
    "                                    'infer_processors': [\n",
    "                                        {'class': 'FilterCol',\n",
    "                                        'kwargs': {\n",
    "                                            'fields_group': 'feature',\n",
    "                                            'col_list': [\"RESI5\", \"WVMA5\", \"RSQR5\", \"KLEN\", \"RSQR10\", \"CORR5\", \"CORD5\", \"CORR10\", \n",
    "                            \"ROC60\", \"RESI10\", \"VSTD5\", \"RSQR60\", \"CORR60\", \"WVMA60\", \"STD5\", \n",
    "                            \"RSQR20\", \"CORD60\", \"CORD10\", \"CORR20\", \"KLOW\"]\n",
    "\n",
    "                                        }},\n",
    "                                        {'class': 'RobustZScoreNorm',\n",
    "                                        'kwargs': {'fields_group': 'feature', 'clip_outlier': True}},\n",
    "                                        {'class': 'Fillna', 'kwargs': {'fields_group': 'feature'}}],\n",
    "                                    'learn_processors': [{'class': 'DropnaLabel'},\n",
    "                                                        # 对预测的目标进行截面排序处理\n",
    "                                                        {'class': 'CSRankNorm', 'kwargs': {'fields_group': 'label'}}\n",
    "                                                        \n",
    "                                                       ],\n",
    "                                    \n",
    "                                    # 预测的目标\n",
    "                                    'label': ['Ref($vwap, -2) / Ref($vwap, -1) - 1']}},\n",
    "                    \n",
    "                    'segments': {'train': [train_start, train_end],\n",
    "                                'valid': [valid_start, valid_end],\n",
    "                                'test': [test_start, test_end]},\n",
    "                    'step_len': 20}},\n",
    "    \n",
    "    'model_config': {'class': 'GRU',\n",
    "                    'module_path': 'qlib.contrib.model.pytorch_gru_ts_chg_daybyday',\n",
    "                    'kwargs': {\n",
    "                        'd_feat': 20,\n",
    "                        'hidden_size': 64,\n",
    "                        'num_layers': 2,\n",
    "                        'dropout': 0.0,\n",
    "                        'n_epochs': 200,\n",
    "                        'lr': 0.001,\n",
    "                        'early_stop': 10,\n",
    "                        'batch_size': 800,\n",
    "                        'metric': 'loss',\n",
    "                        'loss': 'batch_ic',\n",
    "                        'n_jobs': 1,\n",
    "                        'GPU': 0,\n",
    "                        'seed': None,\n",
    "                    }}\n",
    "    }\n",
    "    \n",
    "    # 实例化数据集及模型\n",
    "    t_start = time.time()\n",
    "\n",
    "    print(\"初始化ds\")\n",
    "    ds = init_instance_by_config(task[\"ds_config\"])\n",
    "    t_end = time.time()\n",
    "    print('ds耗时：%.3fs'%(t_end-t_start))\n",
    "    t_start = time.time()\n",
    "\n",
    "    \n",
    "    print(\"初始化md\")\n",
    "    \n",
    "    \n",
    "    model = init_instance_by_config(task[\"model_config\"])\n",
    "    t_end = time.time()\n",
    "    print('md耗时：%.3fs'%(t_end-t_start))\n",
    "    print(\"train\")\n",
    "    print(\"开始训练\")\n",
    "    t_start = time.time()\n",
    "\n",
    "    # start exp to train model\n",
    "    with R.start(experiment_name=\"train_model\"):\n",
    "        R.log_params(**flatten_dict(task))\n",
    "        model.fit(dataset=ds)\n",
    "        t_end = time.time()\n",
    "        print('训练耗时：%.3fs'%(t_end-t_start))\n",
    "        R.save_objects(trained_model=model)\n",
    "        rid = R.get_recorder().id\n",
    "\n",
    "        print(\"训练结束\")\n",
    "        \n",
    "        # prediction\n",
    "        recorder = R.get_recorder()\n",
    "        ba_rid = recorder.id\n",
    "        sr = SignalRecord(model, ds, recorder)\n",
    "        sr.generate()\n",
    "    \n",
    "   \n",
    "   \n",
    "    \n",
    "\n"
   ]
  },
  {
   "cell_type": "code",
   "execution_count": 7,
   "metadata": {},
   "outputs": [
    {
     "name": "stdout",
     "output_type": "stream",
     "text": [
      "{'class': 'Recorder', 'id': 'c264c486378948e287e58b8980b7e86b', 'name': 'mlflow_recorder', 'experiment_id': '492208354114910911', 'start_time': '2023-02-01 15:47:50', 'end_time': '2023-02-01 18:28:07', 'status': 'FINISHED'}\n"
     ]
    },
    {
     "name": "stderr",
     "output_type": "stream",
     "text": [
      "c:\\Users\\lenovo\\AppData\\Local\\Programs\\Python\\Python39\\lib\\site-packages\\qlib\\workflow\\recorder.py:332: FutureWarning: ``mlflow.tracking.client.MlflowClient.download_artifacts`` is deprecated since 2.0. This method will be removed in a future release. Use ``mlflow.artifacts.download_artifacts`` instead.\n",
      "  path = self.client.download_artifacts(self.id, name)\n"
     ]
    }
   ],
   "source": [
    "recorder = R.get_recorder(recorder_id=ba_rid, experiment_name=\"train_model\")\n",
    "print(recorder)\n",
    "pred_df = recorder.load_object(\"pred.pkl\")\n",
    "label_df = recorder.load_object(\"label.pkl\")\n"
   ]
  },
  {
   "cell_type": "code",
   "execution_count": 8,
   "metadata": {},
   "outputs": [
    {
     "data": {
      "text/html": [
       "<div>\n",
       "<style scoped>\n",
       "    .dataframe tbody tr th:only-of-type {\n",
       "        vertical-align: middle;\n",
       "    }\n",
       "\n",
       "    .dataframe tbody tr th {\n",
       "        vertical-align: top;\n",
       "    }\n",
       "\n",
       "    .dataframe thead th {\n",
       "        text-align: right;\n",
       "    }\n",
       "</style>\n",
       "<table border=\"1\" class=\"dataframe\">\n",
       "  <thead>\n",
       "    <tr style=\"text-align: right;\">\n",
       "      <th></th>\n",
       "      <th></th>\n",
       "      <th>label</th>\n",
       "      <th>score</th>\n",
       "    </tr>\n",
       "    <tr>\n",
       "      <th>datetime</th>\n",
       "      <th>instrument</th>\n",
       "      <th></th>\n",
       "      <th></th>\n",
       "    </tr>\n",
       "  </thead>\n",
       "  <tbody>\n",
       "    <tr>\n",
       "      <th rowspan=\"5\" valign=\"top\">2021-10-08</th>\n",
       "      <th>SH600000</th>\n",
       "      <td>-0.003805</td>\n",
       "      <td>0.469601</td>\n",
       "    </tr>\n",
       "    <tr>\n",
       "      <th>SH600001</th>\n",
       "      <td>NaN</td>\n",
       "      <td>0.295593</td>\n",
       "    </tr>\n",
       "    <tr>\n",
       "      <th>SH600002</th>\n",
       "      <td>NaN</td>\n",
       "      <td>0.295593</td>\n",
       "    </tr>\n",
       "    <tr>\n",
       "      <th>SH600003</th>\n",
       "      <td>NaN</td>\n",
       "      <td>0.295593</td>\n",
       "    </tr>\n",
       "    <tr>\n",
       "      <th>SH600004</th>\n",
       "      <td>-0.000132</td>\n",
       "      <td>-0.119936</td>\n",
       "    </tr>\n",
       "    <tr>\n",
       "      <th>...</th>\n",
       "      <th>...</th>\n",
       "      <td>...</td>\n",
       "      <td>...</td>\n",
       "    </tr>\n",
       "    <tr>\n",
       "      <th rowspan=\"5\" valign=\"top\">2021-12-31</th>\n",
       "      <th>SZ301268</th>\n",
       "      <td>NaN</td>\n",
       "      <td>0.295593</td>\n",
       "    </tr>\n",
       "    <tr>\n",
       "      <th>SZ301279</th>\n",
       "      <td>NaN</td>\n",
       "      <td>0.295593</td>\n",
       "    </tr>\n",
       "    <tr>\n",
       "      <th>SZ301288</th>\n",
       "      <td>NaN</td>\n",
       "      <td>0.295593</td>\n",
       "    </tr>\n",
       "    <tr>\n",
       "      <th>SZ301298</th>\n",
       "      <td>NaN</td>\n",
       "      <td>0.295593</td>\n",
       "    </tr>\n",
       "    <tr>\n",
       "      <th>SZT00018</th>\n",
       "      <td>NaN</td>\n",
       "      <td>0.295593</td>\n",
       "    </tr>\n",
       "  </tbody>\n",
       "</table>\n",
       "<p>298412 rows × 2 columns</p>\n",
       "</div>"
      ],
      "text/plain": [
       "                          label     score\n",
       "datetime   instrument                    \n",
       "2021-10-08 SH600000   -0.003805  0.469601\n",
       "           SH600001         NaN  0.295593\n",
       "           SH600002         NaN  0.295593\n",
       "           SH600003         NaN  0.295593\n",
       "           SH600004   -0.000132 -0.119936\n",
       "...                         ...       ...\n",
       "2021-12-31 SZ301268         NaN  0.295593\n",
       "           SZ301279         NaN  0.295593\n",
       "           SZ301288         NaN  0.295593\n",
       "           SZ301298         NaN  0.295593\n",
       "           SZT00018         NaN  0.295593\n",
       "\n",
       "[298412 rows x 2 columns]"
      ]
     },
     "execution_count": 8,
     "metadata": {},
     "output_type": "execute_result"
    }
   ],
   "source": [
    "label_df.columns = ['label']\n",
    "pred_label = pd.concat([label_df, pred_df], axis=1, sort=True).reindex(label_df.index)\n",
    "pred_label\n",
    "\n"
   ]
  },
  {
   "cell_type": "code",
   "execution_count": 9,
   "metadata": {},
   "outputs": [
    {
     "data": {
      "text/html": [
       "<div>\n",
       "<style scoped>\n",
       "    .dataframe tbody tr th:only-of-type {\n",
       "        vertical-align: middle;\n",
       "    }\n",
       "\n",
       "    .dataframe tbody tr th {\n",
       "        vertical-align: top;\n",
       "    }\n",
       "\n",
       "    .dataframe thead th {\n",
       "        text-align: right;\n",
       "    }\n",
       "</style>\n",
       "<table border=\"1\" class=\"dataframe\">\n",
       "  <thead>\n",
       "    <tr style=\"text-align: right;\">\n",
       "      <th></th>\n",
       "      <th></th>\n",
       "      <th>label</th>\n",
       "      <th>score</th>\n",
       "    </tr>\n",
       "    <tr>\n",
       "      <th>datetime</th>\n",
       "      <th>instrument</th>\n",
       "      <th></th>\n",
       "      <th></th>\n",
       "    </tr>\n",
       "  </thead>\n",
       "  <tbody>\n",
       "    <tr>\n",
       "      <th rowspan=\"5\" valign=\"top\">2021-10-08</th>\n",
       "      <th>SH600000</th>\n",
       "      <td>-0.003805</td>\n",
       "      <td>0.469601</td>\n",
       "    </tr>\n",
       "    <tr>\n",
       "      <th>SH600004</th>\n",
       "      <td>-0.000132</td>\n",
       "      <td>-0.119936</td>\n",
       "    </tr>\n",
       "    <tr>\n",
       "      <th>SH600006</th>\n",
       "      <td>-0.002019</td>\n",
       "      <td>0.098792</td>\n",
       "    </tr>\n",
       "    <tr>\n",
       "      <th>SH600007</th>\n",
       "      <td>-0.019457</td>\n",
       "      <td>0.260215</td>\n",
       "    </tr>\n",
       "    <tr>\n",
       "      <th>SH600008</th>\n",
       "      <td>-0.033927</td>\n",
       "      <td>-0.305151</td>\n",
       "    </tr>\n",
       "    <tr>\n",
       "      <th>...</th>\n",
       "      <th>...</th>\n",
       "      <td>...</td>\n",
       "      <td>...</td>\n",
       "    </tr>\n",
       "    <tr>\n",
       "      <th rowspan=\"5\" valign=\"top\">2021-12-31</th>\n",
       "      <th>SZ301198</th>\n",
       "      <td>-0.044113</td>\n",
       "      <td>-0.093017</td>\n",
       "    </tr>\n",
       "    <tr>\n",
       "      <th>SZ301199</th>\n",
       "      <td>-0.032918</td>\n",
       "      <td>-0.235070</td>\n",
       "    </tr>\n",
       "    <tr>\n",
       "      <th>SZ301211</th>\n",
       "      <td>-0.078627</td>\n",
       "      <td>-0.010728</td>\n",
       "    </tr>\n",
       "    <tr>\n",
       "      <th>SZ301213</th>\n",
       "      <td>-0.072030</td>\n",
       "      <td>-0.309071</td>\n",
       "    </tr>\n",
       "    <tr>\n",
       "      <th>SZ301221</th>\n",
       "      <td>-0.065021</td>\n",
       "      <td>-0.627428</td>\n",
       "    </tr>\n",
       "  </tbody>\n",
       "</table>\n",
       "<p>276839 rows × 2 columns</p>\n",
       "</div>"
      ],
      "text/plain": [
       "                          label     score\n",
       "datetime   instrument                    \n",
       "2021-10-08 SH600000   -0.003805  0.469601\n",
       "           SH600004   -0.000132 -0.119936\n",
       "           SH600006   -0.002019  0.098792\n",
       "           SH600007   -0.019457  0.260215\n",
       "           SH600008   -0.033927 -0.305151\n",
       "...                         ...       ...\n",
       "2021-12-31 SZ301198   -0.044113 -0.093017\n",
       "           SZ301199   -0.032918 -0.235070\n",
       "           SZ301211   -0.078627 -0.010728\n",
       "           SZ301213   -0.072030 -0.309071\n",
       "           SZ301221   -0.065021 -0.627428\n",
       "\n",
       "[276839 rows x 2 columns]"
      ]
     },
     "execution_count": 9,
     "metadata": {},
     "output_type": "execute_result"
    }
   ],
   "source": [
    "pred_label = pred_label.dropna(axis=0,how='any')\n",
    "pred_label"
   ]
  },
  {
   "cell_type": "code",
   "execution_count": 10,
   "metadata": {},
   "outputs": [
    {
     "data": {
      "text/plain": [
       "0.014108799910146049"
      ]
     },
     "execution_count": 10,
     "metadata": {},
     "output_type": "execute_result"
    }
   ],
   "source": [
    "pred_label.reset_index().groupby('datetime').apply(lambda df: df['label'].corr(df['score'])).reset_index()[0].mean()\n"
   ]
  }
 ],
 "metadata": {
  "kernelspec": {
   "display_name": "Python 3",
   "language": "python",
   "name": "python3"
  },
  "language_info": {
   "codemirror_mode": {
    "name": "ipython",
    "version": 3
   },
   "file_extension": ".py",
   "mimetype": "text/x-python",
   "name": "python",
   "nbconvert_exporter": "python",
   "pygments_lexer": "ipython3",
   "version": "3.9.7 (tags/v3.9.7:1016ef3, Aug 30 2021, 20:19:38) [MSC v.1929 64 bit (AMD64)]"
  },
  "orig_nbformat": 4,
  "vscode": {
   "interpreter": {
    "hash": "8f939dc046ae95b61db57b1ddfb635e5199eac9f7bf30422bfd106b8f44dc254"
   }
  }
 },
 "nbformat": 4,
 "nbformat_minor": 2
}
